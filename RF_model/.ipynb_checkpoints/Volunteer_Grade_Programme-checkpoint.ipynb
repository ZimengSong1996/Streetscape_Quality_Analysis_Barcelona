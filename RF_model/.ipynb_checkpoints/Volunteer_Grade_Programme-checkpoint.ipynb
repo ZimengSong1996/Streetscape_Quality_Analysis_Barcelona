{
 "cells": [
  {
   "cell_type": "code",
   "execution_count": null,
   "id": "724f366e-f62b-487c-937c-ea3147ea79bc",
   "metadata": {},
   "outputs": [],
   "source": [
    "import os\n",
    "import cv2        #anaconda的base环境中没有 需要单独安装\n",
    "import csv\n",
    "import codecs\n",
    "import os\n",
    "\n",
    "path = './image/'\n",
    "fileName = 'Score.csv'\n",
    "\n",
    "imagelist = os.listdir(path)\n",
    "\n",
    "print(\"Please grade the street view between 0-6 (low-high quality): \")\n",
    "for imgname in imagelist:   #遍历image文件夹下的图片\n",
    "    if (imgname.endswith(\".jpg\")):\n",
    "        image = cv2.imread(path + imgname)\n",
    "        cv2.imshow(imgname, image)\n",
    "        # k = cv2.waitKey(0)\n",
    "        cv2.waitKey(15000)\n",
    "        cv2.destroyWindow(imgname)\n",
    "        score = input(\"输入分数:\")  #手动输入分数\n",
    "\n",
    "        if int(score) < 10:\n",
    "            # 结果写入csv\n",
    "            with codecs.open(fileName, 'a', 'utf-8') as csvfile:\n",
    "                filednames = [imgname, score]\n",
    "                writer = csv.DictWriter(csvfile, fieldnames=filednames)\n",
    "                writer.writeheader()\n",
    "\n",
    "            # 将打分结果分类存入文件夹\n",
    "            #if not os.path.exists(pic_path + '/' + score):\n",
    "                #os.makedirs(pic_path + '/' + score)\n",
    "            #cv2.imwrite(pic_path + '/' + score + '/' + imgname, image)\n",
    "\n",
    "        else:\n",
    "            print(\"请重新打分输入0-6分之间的数字!\")\n",
    "            score = input(\"输入分数:\")\n",
    "\n",
    "            # 结果写入csv\n",
    "            with codecs.open(fileName, 'a', 'utf-8') as csvfile:\n",
    "                filednames = [imgname, score]\n",
    "                writer = csv.DictWriter(csvfile, fieldnames=filednames)\n",
    "                writer.writeheader()\n",
    "\n",
    "            # 将打分结果分类存入文件夹\n",
    "            if not os.path.exists(pic_path + '/' + score):\n",
    "                os.makedirs(pic_path + '/' + score)\n",
    "            cv2.imwrite(pic_path + '/' + score + '/' + imgname, image)\n",
    "\n"
   ]
  }
 ],
 "metadata": {
  "kernelspec": {
   "display_name": "Python 3 (ipykernel)",
   "language": "python",
   "name": "python3"
  },
  "language_info": {
   "codemirror_mode": {
    "name": "ipython",
    "version": 3
   },
   "file_extension": ".py",
   "mimetype": "text/x-python",
   "name": "python",
   "nbconvert_exporter": "python",
   "pygments_lexer": "ipython3",
   "version": "3.11.5"
  }
 },
 "nbformat": 4,
 "nbformat_minor": 5
}
